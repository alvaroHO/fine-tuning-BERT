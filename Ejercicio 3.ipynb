{
 "cells": [
  {
   "cell_type": "markdown",
   "id": "fae37816-3d18-4b2e-ac32-83d0c278e409",
   "metadata": {},
   "source": [
    "# Ejercicio 3"
   ]
  },
  {
   "cell_type": "markdown",
   "id": "50f59b46-1615-40a0-9059-4b588eecd3d2",
   "metadata": {},
   "source": [
    "Se proporciona una BBDD con la descripción de los siniestros de los clientes, tipificados por causa.\n",
    "\n",
    "El objetivo del ejercicio es usar el modelo de IA que consideres más apropiado y sobre el, hacer un fine tuning para\n",
    "conseguir que tipifique las causas a partir de la descripción."
   ]
  },
  {
   "cell_type": "markdown",
   "id": "1ad98a4e-88bf-4bda-9513-f31d123042a1",
   "metadata": {},
   "source": [
    "Cargamos las librerías"
   ]
  },
  {
   "cell_type": "code",
   "execution_count": 1,
   "id": "1e4798c9-7e37-44b9-874b-f106e0c0cd8f",
   "metadata": {},
   "outputs": [
    {
     "name": "stderr",
     "output_type": "stream",
     "text": [
      "2025-02-03 14:03:22.326227: E external/local_xla/xla/stream_executor/cuda/cuda_dnn.cc:9261] Unable to register cuDNN factory: Attempting to register factory for plugin cuDNN when one has already been registered\n",
      "2025-02-03 14:03:22.326300: E external/local_xla/xla/stream_executor/cuda/cuda_fft.cc:607] Unable to register cuFFT factory: Attempting to register factory for plugin cuFFT when one has already been registered\n",
      "2025-02-03 14:03:22.358885: E external/local_xla/xla/stream_executor/cuda/cuda_blas.cc:1515] Unable to register cuBLAS factory: Attempting to register factory for plugin cuBLAS when one has already been registered\n",
      "2025-02-03 14:03:22.432677: I tensorflow/core/platform/cpu_feature_guard.cc:182] This TensorFlow binary is optimized to use available CPU instructions in performance-critical operations.\n",
      "To enable the following instructions: AVX2 FMA, in other operations, rebuild TensorFlow with the appropriate compiler flags.\n",
      "2025-02-03 14:03:23.360995: W tensorflow/compiler/tf2tensorrt/utils/py_utils.cc:38] TF-TRT Warning: Could not find TensorRT\n"
     ]
    }
   ],
   "source": [
    "from transformers import AutoTokenizer, AutoModelForSequenceClassification\n",
    "import numpy as np\n",
    "import pandas as pd\n",
    "import matplotlib.pyplot as plt\n",
    "from sklearn.model_selection import GridSearchCV, train_test_split, RandomizedSearchCV\n",
    "from scipy.stats import norm\n",
    "from sklearn.metrics import accuracy_score, classification_report, f1_score, precision_score, recall_score\n",
    "import warnings\n",
    "warnings.simplefilter(action='ignore')\n",
    "from transformers import Trainer, TrainingArguments\n",
    "from datasets import Dataset\n",
    "from sklearn.preprocessing import LabelEncoder\n",
    "import re"
   ]
  },
  {
   "cell_type": "markdown",
   "id": "772f2cb4-1a29-49f0-8c55-87cb9ce21141",
   "metadata": {},
   "source": [
    "leemos el df"
   ]
  },
  {
   "cell_type": "code",
   "execution_count": 2,
   "id": "a1caf1d0-23ab-408f-87e4-365be6b5ffa3",
   "metadata": {},
   "outputs": [],
   "source": [
    "df_siniestros = pd.read_csv('/home/dell/Descargas/Prueba/BBDD_CAUSAS_SINIESTROS_TRAIN.csv', delimiter=';', encoding='latin1')"
   ]
  },
  {
   "cell_type": "code",
   "execution_count": 3,
   "id": "afa4932d-7625-4822-92d9-de146115897a",
   "metadata": {},
   "outputs": [
    {
     "data": {
      "text/html": [
       "<div>\n",
       "<style scoped>\n",
       "    .dataframe tbody tr th:only-of-type {\n",
       "        vertical-align: middle;\n",
       "    }\n",
       "\n",
       "    .dataframe tbody tr th {\n",
       "        vertical-align: top;\n",
       "    }\n",
       "\n",
       "    .dataframe thead th {\n",
       "        text-align: right;\n",
       "    }\n",
       "</style>\n",
       "<table border=\"1\" class=\"dataframe\">\n",
       "  <thead>\n",
       "    <tr style=\"text-align: right;\">\n",
       "      <th></th>\n",
       "      <th>ID_SINIESTRO</th>\n",
       "      <th>DE_TEXTO</th>\n",
       "      <th>DE_TFJ7_CASTELLANO</th>\n",
       "    </tr>\n",
       "  </thead>\n",
       "  <tbody>\n",
       "    <tr>\n",
       "      <th>0</th>\n",
       "      <td>375394764</td>\n",
       "      <td>ROTURA DE GRIFO DE FREGADERO COCINA  ESTA OCAS...</td>\n",
       "      <td>Mantenimiento</td>\n",
       "    </tr>\n",
       "    <tr>\n",
       "      <th>1</th>\n",
       "      <td>375397056</td>\n",
       "      <td>A consecuenc a del viento se ha despegado del ...</td>\n",
       "      <td>Fenómenos atmosféricos</td>\n",
       "    </tr>\n",
       "    <tr>\n",
       "      <th>2</th>\n",
       "      <td>375397700</td>\n",
       "      <td>Rotura de loza sanitaria de tanque de cisterna...</td>\n",
       "      <td>Cristales, mármol y loza sanitaria</td>\n",
       "    </tr>\n",
       "    <tr>\n",
       "      <th>3</th>\n",
       "      <td>375401437</td>\n",
       "      <td>ASEGURADO INDICA FUGA DE AGUA EN SUELO DE BAñO...</td>\n",
       "      <td>Daños por agua</td>\n",
       "    </tr>\n",
       "    <tr>\n",
       "      <th>4</th>\n",
       "      <td>375402120</td>\n",
       "      <td>LLAMA ASEGURADO PARA INDICAR QUE SALE AGUA POR...</td>\n",
       "      <td>Daños por agua</td>\n",
       "    </tr>\n",
       "  </tbody>\n",
       "</table>\n",
       "</div>"
      ],
      "text/plain": [
       "   ID_SINIESTRO                                           DE_TEXTO  \\\n",
       "0     375394764  ROTURA DE GRIFO DE FREGADERO COCINA  ESTA OCAS...   \n",
       "1     375397056  A consecuenc a del viento se ha despegado del ...   \n",
       "2     375397700  Rotura de loza sanitaria de tanque de cisterna...   \n",
       "3     375401437  ASEGURADO INDICA FUGA DE AGUA EN SUELO DE BAñO...   \n",
       "4     375402120  LLAMA ASEGURADO PARA INDICAR QUE SALE AGUA POR...   \n",
       "\n",
       "                   DE_TFJ7_CASTELLANO  \n",
       "0                       Mantenimiento  \n",
       "1              Fenómenos atmosféricos  \n",
       "2  Cristales, mármol y loza sanitaria  \n",
       "3                      Daños por agua  \n",
       "4                      Daños por agua  "
      ]
     },
     "execution_count": 3,
     "metadata": {},
     "output_type": "execute_result"
    }
   ],
   "source": [
    "df_siniestros.head()"
   ]
  },
  {
   "cell_type": "markdown",
   "id": "690a6761-20b5-4562-b7f5-cda84c2eaad0",
   "metadata": {},
   "source": [
    "Agrupamos tipologías para reeducir el número de clases"
   ]
  },
  {
   "cell_type": "code",
   "execution_count": 4,
   "id": "71ec6e09-103c-42ef-b308-9686027c97e7",
   "metadata": {},
   "outputs": [],
   "source": [
    "correcciones = {\n",
    "    'Actos vandálicos y otros': 'vandalismo, robo u otros',  \n",
    "    'Cristales, mármol y loza sanitaria': 'daños materiales', \n",
    "    'Daños Materiales': 'daños materiales', \n",
    "    'EXPLOTACIÓN DAÑOS PERSONALES Y MATERIALES': 'daños materiales', \n",
    "    'Daños eléctricos': 'incendios, explosiones o daños electricos',\n",
    "    'Hurto': 'vandalismo, robo u otros',\n",
    "    'IMPACTO MAQUINARIA': 'daños materiales',\n",
    "    'Mantenimiento': 'responsabilidad civil o mantenimiento',\n",
    "    'Incendio': 'incendios, explosiones o daños electricos',\n",
    "    'OTRAS CAUSAS R.C. ACTIVIDAD COM.': 'responsabilidad civil o mantenimiento',\n",
    "    'OTRAS CAUSAS R.C. PATRONAL COM.': 'responsabilidad civil o mantenimiento',\n",
    "    'Otras causas': 'vandalismo, robo u otros',  \n",
    "    'Otras contingencias': 'vandalismo, robo u otros',  \n",
    "    'Responsabilidad civil': 'responsabilidad civil o mantenimiento',  \n",
    "    'Robo': 'vandalismo, robo u otros',  \n",
    "    'SALPICADURAS MATERIAL DE OBRA O DE MATERIAL DE TRA': 'daños materiales',  \n",
    "    'otros': 'vandalismo, robo u otros',  \n",
    "}\n",
    "\n",
    "df_siniestros['causa'] = df_siniestros['DE_TFJ7_CASTELLANO'].replace(correcciones)"
   ]
  },
  {
   "cell_type": "code",
   "execution_count": 5,
   "id": "40b34bb8-d313-4c3a-be26-721440952ac4",
   "metadata": {},
   "outputs": [],
   "source": [
    "num_classes = df_siniestros[\"causa\"].nunique()  # Número de causas únicas"
   ]
  },
  {
   "cell_type": "code",
   "execution_count": 6,
   "id": "f8b947f0-d682-473f-b09c-70f5199bdce0",
   "metadata": {},
   "outputs": [],
   "source": [
    "unique_labels = df_siniestros[\"causa\"].unique()  # Lista de causas únicas\n",
    "\n",
    "id2label = {i: label for i, label in enumerate(unique_labels)}\n",
    "label2id = {label: i for i, label in id2label.items()}"
   ]
  },
  {
   "cell_type": "markdown",
   "id": "b9c486d5-ffc7-444a-8cfc-dbb984632654",
   "metadata": {},
   "source": [
    "En este caso, utilizamos el modelo BETO (variante del modelo BERT) que ha sido entrenado previamente sobre un corpus en español y tendrá mejor rendimiento sobre nuestro dataset"
   ]
  },
  {
   "cell_type": "code",
   "execution_count": 7,
   "id": "ea35e694-c539-4368-80c3-d2393d120d36",
   "metadata": {},
   "outputs": [
    {
     "name": "stderr",
     "output_type": "stream",
     "text": [
      "Some weights of BertForSequenceClassification were not initialized from the model checkpoint at dccuchile/bert-base-spanish-wwm-uncased and are newly initialized: ['bert.pooler.dense.bias', 'bert.pooler.dense.weight', 'classifier.bias', 'classifier.weight']\n",
      "You should probably TRAIN this model on a down-stream task to be able to use it for predictions and inference.\n"
     ]
    }
   ],
   "source": [
    "model_name = \"dccuchile/bert-base-spanish-wwm-uncased\"  # BETO\n",
    "tokenizer = AutoTokenizer.from_pretrained(model_name)\n",
    "model = AutoModelForSequenceClassification.from_pretrained(\n",
    "    model_name,\n",
    "    num_labels=num_classes,  \n",
    "    id2label=id2label,       \n",
    "    label2id=label2id        \n",
    ")"
   ]
  },
  {
   "cell_type": "code",
   "execution_count": 8,
   "id": "ba6ed713-10bc-4ce1-b23d-1d77de588d13",
   "metadata": {},
   "outputs": [],
   "source": [
    "# Normalizacion, no hace falta quitar stopwords el modelo puede tratarlas correctamente\n",
    "def normalizar_texto(texto):\n",
    "    # Eliminar URLs, menciones y hashtags\n",
    "    texto = re.sub(r\"http\\S+|www\\S+|https\\S+\", \"\", texto, flags=re.MULTILINE)\n",
    "    texto = re.sub(r\"@\\w+\", \"\", texto)\n",
    "    texto = re.sub(r\"#\\w+\", \"\", texto)\n",
    "    \n",
    "    # Convertir a minúsculas \n",
    "    texto = texto.lower()\n",
    "    \n",
    "    # Eliminar espacios en blanco adicionales\n",
    "    texto = texto.strip()\n",
    "    \n",
    "    return texto"
   ]
  },
  {
   "cell_type": "code",
   "execution_count": 9,
   "id": "5088ac9d-2e44-4b92-a349-c2777e6cb7c5",
   "metadata": {},
   "outputs": [
    {
     "data": {
      "text/html": [
       "<div>\n",
       "<style scoped>\n",
       "    .dataframe tbody tr th:only-of-type {\n",
       "        vertical-align: middle;\n",
       "    }\n",
       "\n",
       "    .dataframe tbody tr th {\n",
       "        vertical-align: top;\n",
       "    }\n",
       "\n",
       "    .dataframe thead th {\n",
       "        text-align: right;\n",
       "    }\n",
       "</style>\n",
       "<table border=\"1\" class=\"dataframe\">\n",
       "  <thead>\n",
       "    <tr style=\"text-align: right;\">\n",
       "      <th></th>\n",
       "      <th>descripcion_normalizada</th>\n",
       "      <th>causa</th>\n",
       "    </tr>\n",
       "  </thead>\n",
       "  <tbody>\n",
       "    <tr>\n",
       "      <th>0</th>\n",
       "      <td>rotura de grifo de fregadero cocina  esta ocas...</td>\n",
       "      <td>responsabilidad civil o mantenimiento</td>\n",
       "    </tr>\n",
       "    <tr>\n",
       "      <th>1</th>\n",
       "      <td>a consecuenc a del viento se ha despegado del ...</td>\n",
       "      <td>Fenómenos atmosféricos</td>\n",
       "    </tr>\n",
       "    <tr>\n",
       "      <th>2</th>\n",
       "      <td>rotura de loza sanitaria de tanque de cisterna...</td>\n",
       "      <td>daños materiales</td>\n",
       "    </tr>\n",
       "    <tr>\n",
       "      <th>3</th>\n",
       "      <td>asegurado indica fuga de agua en suelo de baño...</td>\n",
       "      <td>Daños por agua</td>\n",
       "    </tr>\n",
       "    <tr>\n",
       "      <th>4</th>\n",
       "      <td>llama asegurado para indicar que sale agua por...</td>\n",
       "      <td>Daños por agua</td>\n",
       "    </tr>\n",
       "  </tbody>\n",
       "</table>\n",
       "</div>"
      ],
      "text/plain": [
       "                             descripcion_normalizada  \\\n",
       "0  rotura de grifo de fregadero cocina  esta ocas...   \n",
       "1  a consecuenc a del viento se ha despegado del ...   \n",
       "2  rotura de loza sanitaria de tanque de cisterna...   \n",
       "3  asegurado indica fuga de agua en suelo de baño...   \n",
       "4  llama asegurado para indicar que sale agua por...   \n",
       "\n",
       "                                   causa  \n",
       "0  responsabilidad civil o mantenimiento  \n",
       "1                 Fenómenos atmosféricos  \n",
       "2                       daños materiales  \n",
       "3                         Daños por agua  \n",
       "4                         Daños por agua  "
      ]
     },
     "execution_count": 9,
     "metadata": {},
     "output_type": "execute_result"
    }
   ],
   "source": [
    "df_siniestros[\"descripcion_normalizada\"] = df_siniestros[\"DE_TEXTO\"].apply(normalizar_texto)\n",
    "df_siniestros[['descripcion_normalizada', 'causa']].head()"
   ]
  },
  {
   "cell_type": "code",
   "execution_count": 10,
   "id": "389ead9d-2203-43f9-9102-065ae6bad31b",
   "metadata": {},
   "outputs": [],
   "source": [
    "df = df_siniestros[['descripcion_normalizada', 'causa']].copy()"
   ]
  },
  {
   "cell_type": "code",
   "execution_count": 11,
   "id": "6658b6ee-4d9f-454a-8adf-5d3443898f48",
   "metadata": {},
   "outputs": [],
   "source": [
    "# Tokenizacion\n",
    "inputs = tokenizer(\n",
    "    list(df['descripcion_normalizada']),          \n",
    "    padding=\"max_length\",  \n",
    "    truncation=True,        \n",
    "    max_length=128,         \n",
    "    return_tensors=\"pt\"\n",
    ")"
   ]
  },
  {
   "cell_type": "code",
   "execution_count": 12,
   "id": "011fa679-82a8-4244-ad06-2bf7b5aa7ba9",
   "metadata": {},
   "outputs": [],
   "source": [
    "# Mapeamos las etiquetas\n",
    "le = LabelEncoder()\n",
    "labels = le.fit_transform(df[\"causa\"])"
   ]
  },
  {
   "cell_type": "markdown",
   "id": "5a471ea6-a971-4fad-b159-8821c777ff3a",
   "metadata": {},
   "source": [
    "Realizamos el fine-tuning sobre nuestro conjunto"
   ]
  },
  {
   "cell_type": "code",
   "execution_count": 13,
   "id": "eb5e3011-07a3-43ea-b266-8b143691bcde",
   "metadata": {},
   "outputs": [
    {
     "data": {
      "text/html": [
       "\n",
       "    <div>\n",
       "      \n",
       "      <progress value='80' max='80' style='width:300px; height:20px; vertical-align: middle;'></progress>\n",
       "      [80/80 05:26, Epoch 4/4]\n",
       "    </div>\n",
       "    <table border=\"1\" class=\"dataframe\">\n",
       "  <thead>\n",
       " <tr style=\"text-align: left;\">\n",
       "      <th>Epoch</th>\n",
       "      <th>Training Loss</th>\n",
       "      <th>Validation Loss</th>\n",
       "    </tr>\n",
       "  </thead>\n",
       "  <tbody>\n",
       "    <tr>\n",
       "      <td>1</td>\n",
       "      <td>No log</td>\n",
       "      <td>1.608643</td>\n",
       "    </tr>\n",
       "    <tr>\n",
       "      <td>2</td>\n",
       "      <td>No log</td>\n",
       "      <td>1.485868</td>\n",
       "    </tr>\n",
       "    <tr>\n",
       "      <td>3</td>\n",
       "      <td>No log</td>\n",
       "      <td>1.397871</td>\n",
       "    </tr>\n",
       "    <tr>\n",
       "      <td>4</td>\n",
       "      <td>No log</td>\n",
       "      <td>1.356969</td>\n",
       "    </tr>\n",
       "  </tbody>\n",
       "</table><p>"
      ],
      "text/plain": [
       "<IPython.core.display.HTML object>"
      ]
     },
     "metadata": {},
     "output_type": "display_data"
    },
    {
     "data": {
      "text/plain": [
       "TrainOutput(global_step=80, training_loss=1.2719301223754882, metrics={'train_runtime': 331.1208, 'train_samples_per_second': 3.793, 'train_steps_per_second': 0.242, 'total_flos': 82619838517248.0, 'train_loss': 1.2719301223754882, 'epoch': 4.0})"
      ]
     },
     "execution_count": 13,
     "metadata": {},
     "output_type": "execute_result"
    }
   ],
   "source": [
    "#fine-tuning\n",
    "\n",
    "# Convertir datos a formato de Dataset\n",
    "dataset = Dataset.from_dict({\n",
    "    \"input_ids\": inputs[\"input_ids\"],\n",
    "    \"attention_mask\": inputs[\"attention_mask\"],\n",
    "    \"labels\": labels\n",
    "}).train_test_split(test_size=0.2)\n",
    "\n",
    "# Hiperparámetros BETO\n",
    "training_args = TrainingArguments(\n",
    "    output_dir=\"./results\",\n",
    "    num_train_epochs=4,                  \n",
    "    per_device_train_batch_size=16,       \n",
    "    learning_rate=2e-5,                   \n",
    "    evaluation_strategy=\"epoch\",          \n",
    "    weight_decay=0.01,                    \n",
    "    logging_dir=\"./logs\",\n",
    ")\n",
    "\n",
    "# Entrenador\n",
    "trainer = Trainer(\n",
    "    model=model,\n",
    "    args=training_args,\n",
    "    train_dataset=dataset[\"train\"],\n",
    "    eval_dataset=dataset[\"test\"],\n",
    ")\n",
    "trainer.train()"
   ]
  },
  {
   "cell_type": "markdown",
   "id": "e4b37e12-195f-4e0a-934f-6c44dea67636",
   "metadata": {},
   "source": [
    "Obtenemos las métricas del modelo"
   ]
  },
  {
   "cell_type": "code",
   "execution_count": 14,
   "id": "c55a6caa-df98-490f-8a72-a8070d0de386",
   "metadata": {},
   "outputs": [
    {
     "data": {
      "text/html": [],
      "text/plain": [
       "<IPython.core.display.HTML object>"
      ]
     },
     "metadata": {},
     "output_type": "display_data"
    },
    {
     "name": "stdout",
     "output_type": "stream",
     "text": [
      "                                           precision    recall  f1-score   support\n",
      "\n",
      "                           Daños por agua       0.48      0.88      0.62        26\n",
      "                   Fenómenos atmosféricos       0.00      0.00      0.00         5\n",
      "                         daños materiales       0.48      0.69      0.56        16\n",
      "incendios, explosiones o daños electricos       0.00      0.00      0.00         2\n",
      "    responsabilidad civil o mantenimiento       0.00      0.00      0.00        11\n",
      "                 vandalismo, robo u otros       0.75      0.32      0.44        19\n",
      "\n",
      "                                 accuracy                           0.51        79\n",
      "                                macro avg       0.28      0.31      0.27        79\n",
      "                             weighted avg       0.43      0.51      0.43        79\n",
      "\n"
     ]
    }
   ],
   "source": [
    "# Predicción en el conjunto de prueba\n",
    "predictions = trainer.predict(dataset[\"test\"])\n",
    "preds = np.argmax(predictions.predictions, axis=-1)\n",
    "\n",
    "# Reporte de clasificación detallado\n",
    "print(classification_report(\n",
    "    dataset[\"test\"][\"labels\"],\n",
    "    preds,\n",
    "    target_names=le.classes_  \n",
    "))"
   ]
  },
  {
   "cell_type": "markdown",
   "id": "ce689c68-8781-4b39-a5eb-ce2de3016b2a",
   "metadata": {},
   "source": [
    "Observamos una media ponderada de la métrica f1-score de 0.43, teniendo en cuenta el balanceo existente entre las clases y el reducido número de datos, es un rendimiento aceptable del modelo"
   ]
  }
 ],
 "metadata": {
  "kernelspec": {
   "display_name": "Python 3 (ipykernel)",
   "language": "python",
   "name": "python3"
  },
  "language_info": {
   "codemirror_mode": {
    "name": "ipython",
    "version": 3
   },
   "file_extension": ".py",
   "mimetype": "text/x-python",
   "name": "python",
   "nbconvert_exporter": "python",
   "pygments_lexer": "ipython3",
   "version": "3.9.21"
  }
 },
 "nbformat": 4,
 "nbformat_minor": 5
}
